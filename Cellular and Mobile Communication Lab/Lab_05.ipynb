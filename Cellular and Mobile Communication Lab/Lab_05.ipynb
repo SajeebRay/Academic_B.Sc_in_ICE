{
 "cells": [
  {
   "cell_type": "markdown",
   "metadata": {},
   "source": [
    "A certain city has an area of 1,300 square miles and is covered by a cellular system using a 7-cell reuse pattern. Each cell has a radius of 4 miles and the city is allocated 40 MHz of spectrum with a full duplex channel bandwidth of 60 kHz. Assume a GOS of 2% for an Erlang B system is specified. If the offered traffic per user is 0.03 Erlangs, compute\n",
    "(a) the number of cells in the service area\n",
    "(b) the number of channels per cell\n",
    "(c) traffic intensity of each cell\n",
    "(d) the maximum carried traffic\n",
    "(e) the total number of users that can be served for 2% GOS\n",
    "(f) the number of mobiles per channel\n",
    "(g) the theoretical maximum number of users that could be served at one time by the system"
   ]
  },
  {
   "cell_type": "code",
   "execution_count": 1,
   "metadata": {},
   "outputs": [
    {
     "name": "stdout",
     "output_type": "stream",
     "text": [
      "(a) Total number of cells, Nc: 31 cells\n",
      "\n",
      "(b) The total number of channels per cell, C: 95 channels/cell\n",
      "\n",
      "(c) Traffic intensity per cell, A: 84 Erlangs/cell\n",
      "\n",
      "(d) Maximum carried traffic: 2604 Erlangs\n",
      "\n",
      "(e) Total number of users, U: 86800 users\n",
      "\n",
      "(f) Number of mobiles per channel: 130 mobiles/channel\n",
      "\n",
      "(g) Theoretical maximum number of users that could be served: 2945 users\n",
      "\n"
     ]
    }
   ],
   "source": [
    "import math\n",
    "\n",
    "# (a) Total number of cells\n",
    "total_city_coverage_area = 1300  # in square miles\n",
    "radius = 4  # radius of each cell in miles\n",
    "cell_area = (2.591 * radius**2)  # Each cell covers this area in square miles\n",
    "Nc = round(total_city_coverage_area / cell_area)  # Total number of cells, Nc\n",
    "print(f\"(a) Total number of cells, Nc: {Nc} cells\\n\")\n",
    "\n",
    "# (b) Number of channels per cell\n",
    "allocated_spectrum = 40000  # Allocated spectrum = 40 MHz = 40000 KHz\n",
    "channel_width = 60  # Full duplex channel bandwidth = 60 KHz\n",
    "N = 7  # 7-cell reuse pattern\n",
    "C = round(allocated_spectrum / (channel_width * N))  # Total number of channels per cell\n",
    "print(f\"(b) The total number of channels per cell, C: {C} channels/cell\\n\")\n",
    "\n",
    "# (c) Traffic intensity per cell (from Erlang B chart)\n",
    "A = 84  # Traffic intensity per cell in Erlangs (from Erlang B table, GOS=0.02)\n",
    "print(f\"(c) Traffic intensity per cell, A: {A} Erlangs/cell\\n\")\n",
    "\n",
    "# (d) Maximum carried traffic\n",
    "max_c_t = math.floor(Nc * A)  # Maximum carried traffic in Erlangs\n",
    "print(f\"(d) Maximum carried traffic: {max_c_t} Erlangs\\n\")\n",
    "\n",
    "# (e) Total number of users\n",
    "Au = 0.03  # Traffic per user in Erlangs\n",
    "U = round(max_c_t / Au)  # Total number of users\n",
    "print(f\"(e) Total number of users, U: {U} users\\n\")\n",
    "\n",
    "# (f) Number of mobiles per channel\n",
    "no_of_channel = math.floor(allocated_spectrum / channel_width)  # Total number of channels\n",
    "no_of_m_p_c = math.floor(U / no_of_channel)  # Number of mobiles per channel\n",
    "print(f\"(f) Number of mobiles per channel: {no_of_m_p_c} mobiles/channel\\n\")\n",
    "\n",
    "# (g) Theoretical maximum number of users that could be served\n",
    "g = C * Nc  # Theoretical maximum number of users that could be served\n",
    "print(f\"(g) Theoretical maximum number of users that could be served: {g} users\\n\")"
   ]
  }
 ],
 "metadata": {
  "kernelspec": {
   "display_name": "Python 3",
   "language": "python",
   "name": "python3"
  },
  "language_info": {
   "codemirror_mode": {
    "name": "ipython",
    "version": 3
   },
   "file_extension": ".py",
   "mimetype": "text/x-python",
   "name": "python",
   "nbconvert_exporter": "python",
   "pygments_lexer": "ipython3",
   "version": "3.13.0"
  }
 },
 "nbformat": 4,
 "nbformat_minor": 2
}
