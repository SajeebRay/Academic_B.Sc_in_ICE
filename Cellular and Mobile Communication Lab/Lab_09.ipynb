{
 "cells": [
  {
   "cell_type": "markdown",
   "metadata": {},
   "source": [
    "A mobile is located 5 km away from a base station and uses a vertical λ /4 monopole antenna with a gain of 2.55 dB to receive cellular 3 radio signals. The E-field at 1 km from the transmitter is measured to be V/rn. The carrier frequency used for this system is 900 MHz.\n",
    "(a) Find the length and the gain of the receiving antenna.\n",
    "(b) Find the received power at the mobile using the 2-ray ground reflection model assuming the height of the transmitting antenna is 50 m and the receiving antenna is 1.5m above ground."
   ]
  },
  {
   "cell_type": "code",
   "execution_count": 2,
   "metadata": {},
   "outputs": [
    {
     "name": "stdout",
     "output_type": "stream",
     "text": [
      "Gain of Receiving Antenna: 2.55 dB\n",
      "0.00011309733552923255\n",
      "Electric Field at receiver distance: 1.130973e-04 V/m\n",
      "Received Power at 5 km distance: -122.68 dBW\n",
      "Received Power at 5 km distance: -92.68 dBm\n"
     ]
    }
   ],
   "source": [
    "import math\n",
    "\n",
    "# Given values\n",
    "T_R_distance = 5  # Distance between transmitter and receiver in km\n",
    "E_field = 1e-3  # Electric field in V/m at 1 km distance\n",
    "f = 900  # Frequency in MHz\n",
    "d0 = 1000  # Distance for electric field measurement in meters (1 km)\n",
    "c = 3e8  # Speed of light in m/s\n",
    "\n",
    "# Converting frequency to Hz\n",
    "f *= 1e6\n",
    "\n",
    "# Calculating wavelength\n",
    "lamda = c / f\n",
    "\n",
    "# Height of transmitting and receiving antennas\n",
    "ht = 50  # Height of transmitting antenna in meters\n",
    "hr = 1.5  # Height of receiving antenna in meters\n",
    "\n",
    "# Distance from transmitter to receiver\n",
    "d = T_R_distance * 1000  # in meters\n",
    "\n",
    "# Part (a)\n",
    "# Calculate the length of the antenna (λ/4)\n",
    "length_of_antenna = lamda / 4\n",
    "\n",
    "# Gain in linear scale from dB (given gain of 2.55 dB)\n",
    "gain_dB = 2.55\n",
    "gain_linear = 10 ** (gain_dB / 10)\n",
    "\n",
    "# Output gain in dB for verification\n",
    "print(f\"Gain of Receiving Antenna: {gain_dB:.2f} dB\")\n",
    "\n",
    "# Calculate effective aperture\n",
    "effective_aperture = (gain_linear * (lamda ** 2)) / (4 * math.pi)\n",
    "\n",
    "# Part (b)\n",
    "# Calculate the electric field at the receiver's distance (using the 2-ray ground reflection model approximation)\n",
    "Er_d = (2 * E_field * d0 * 2 * math.pi * ht * hr) / (lamda * d ** 2)\n",
    "print(Er_d)\n",
    "# Output the electric field\n",
    "print(f\"Electric Field at receiver distance: {Er_d:e} V/m\")\n",
    "\n",
    "# Calculate received power (Pr) at distance 'd'\n",
    "pr_d = ((Er_d ** 2) / (120 * math.pi)) * effective_aperture\n",
    "\n",
    "# Convert received power to dBW\n",
    "received_power_dBW = 10 * math.log10(pr_d)\n",
    "\n",
    "# Convert received power to dBm (1 W = 1000 mW)\n",
    "received_power_dBm = 10 * math.log10(pr_d * 1000)\n",
    "\n",
    "# Output the received power\n",
    "print(f\"Received Power at {T_R_distance} km distance: {received_power_dBW:.2f} dBW\")\n",
    "print(f\"Received Power at {T_R_distance} km distance: {received_power_dBm:.2f} dBm\")"
   ]
  },
  {
   "cell_type": "code",
   "execution_count": 6,
   "metadata": {},
   "outputs": [
    {
     "name": "stdout",
     "output_type": "stream",
     "text": [
      "Gain of Receiving Gain: 2.55 dB\n",
      "Electric Field 1.130976e-04 V/m\n",
      "Received power at distance in dBW -122.68\n",
      "Received power at distance in dBm -92.68\n"
     ]
    }
   ],
   "source": [
    "import math\n",
    "\n",
    "# Given values\n",
    "T_R_distance = 5  # Distance between transmitter and receiver in km\n",
    "E_field = 1e-3  # Electric field in V/m\n",
    "f = 900  # Frequency in MHz\n",
    "d0 = 1000  # Distance for electric field measurement in meters\n",
    "c = 3e8  # Speed of light in m/s\n",
    "\n",
    "# Converting frequency to Hz\n",
    "f *= 1e6\n",
    "\n",
    "# Calculating wavelength\n",
    "lamda = c / f\n",
    "\n",
    "# Height of transmitting and receiving antennas\n",
    "ht = 50  # in meters\n",
    "hr = 1.5  # in meters\n",
    "\n",
    "# Distance from transmitter to receiver\n",
    "d = T_R_distance * 1000  # in meters\n",
    "\n",
    "# a\n",
    "length_of_antenna = lamda / 4\n",
    "gain = 10 ** (2.55 / 10)\n",
    "gain_rcv = 10 * math.log10(gain)\n",
    "print('Gain of Receiving Gain: %.2f dB' % gain_rcv)\n",
    "effective_aperture = (gain * (lamda ** 2)) / (4 * 3.1416)\n",
    "# print('Effective aperture is', effective_aperture)\n",
    "\n",
    "# b\n",
    "Er_d = (2 * E_field * d0 * 2 * 3.1416 * ht * hr) / (lamda * d ** 2)\n",
    "print('Electric Field {:e} V/m'.format(Er_d))\n",
    "\n",
    "pr_d = ((Er_d ** 2) / (120 * 3.1416)) * effective_aperture\n",
    "received_power_at_5km_distance = 10 * math.log10(pr_d)\n",
    "print(f'Received power at distance in dBW {received_power_at_5km_distance:.2f}')\n",
    "\n",
    "received_power2 = 10 * math.log10(pr_d * 1000)\n",
    "print(f'Received power at distance in dBm {received_power2:.2f}')\n"
   ]
  }
 ],
 "metadata": {
  "kernelspec": {
   "display_name": "Python 3",
   "language": "python",
   "name": "python3"
  },
  "language_info": {
   "codemirror_mode": {
    "name": "ipython",
    "version": 3
   },
   "file_extension": ".py",
   "mimetype": "text/x-python",
   "name": "python",
   "nbconvert_exporter": "python",
   "pygments_lexer": "ipython3",
   "version": "3.13.0"
  }
 },
 "nbformat": 4,
 "nbformat_minor": 2
}
