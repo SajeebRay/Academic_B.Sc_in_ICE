{
 "cells": [
  {
   "cell_type": "markdown",
   "metadata": {},
   "source": [
    "Determine the path loss between base station (BS) and mobile station (MS) of a 1.8GHz PCS system operating in a high-rise urban area. The MS is located in a perpendicular street to the location of the BS. The distances of the BS and MS to the corner of the street are 20 and 30 meters, respectively. The base station height is 20m."
   ]
  },
  {
   "cell_type": "code",
   "execution_count": null,
   "metadata": {},
   "outputs": [
    {
     "name": "stdout",
     "output_type": "stream",
     "text": [
      "The path loss in a high-rise urban area, Lp = 68.91 dB\n"
     ]
    }
   ],
   "source": [
    "import math\n",
    "\n",
    "# Given values\n",
    "fc = 1.8  # Frequency in GHz\n",
    "hb = 20  # Base station antenna height in meters\n",
    "d_bs = 20  # Distance of the base station to the corner in meters\n",
    "d_ms = 30  # Distance of the mobile station to the corner in meters\n",
    "\n",
    "# Calculate T-R separation distance in kilometers\n",
    "d = math.sqrt(d_bs**2 + d_ms**2) / 1000  # in kilometers\n",
    "\n",
    "# Path Loss in a high-rise urban area\n",
    "Lp = (  135.41 + (12.49 * math.log10(fc)) \n",
    "        - (4.99 * math.log10(hb)) + \n",
    "        ((46.84 - 2.34 * math.log10(hb)) * math.log10(d))\n",
    "    )\n",
    "\n",
    "# Display the result\n",
    "print(f'The path loss in a high-rise urban area, Lp = {Lp:.2f} dB')"
   ]
  }
 ],
 "metadata": {
  "kernelspec": {
   "display_name": "Python 3",
   "language": "python",
   "name": "python3"
  },
  "language_info": {
   "codemirror_mode": {
    "name": "ipython",
    "version": 3
   },
   "file_extension": ".py",
   "mimetype": "text/x-python",
   "name": "python",
   "nbconvert_exporter": "python",
   "pygments_lexer": "ipython3",
   "version": "3.13.0"
  }
 },
 "nbformat": 4,
 "nbformat_minor": 2
}
