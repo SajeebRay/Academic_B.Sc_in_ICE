{
 "cells": [
  {
   "cell_type": "markdown",
   "metadata": {},
   "source": [
    "How many users can be supported for 0.5% blocking probability for the following number of trunked channels in a blocked calls cleared system?\n",
    "(a) 1\n",
    "(b) 5\n",
    "(c) 10\n",
    "(d) 20\n",
    "(e) 100\n",
    "Assume each user generates 0.1 Erlangs of traffic."
   ]
  },
  {
   "cell_type": "code",
   "execution_count": 1,
   "metadata": {},
   "outputs": [
    {
     "name": "stdout",
     "output_type": "stream",
     "text": [
      "For 1 trunked channels:\n",
      "  Maximum traffic load (in Erlangs): 0.0512\n",
      "  Number of users supported: 0.51\n",
      "----------------------------------------\n",
      "For 5 trunked channels:\n",
      "  Maximum traffic load (in Erlangs): 1.3532\n",
      "  Number of users supported: 13.53\n",
      "----------------------------------------\n",
      "For 10 trunked channels:\n",
      "  Maximum traffic load (in Erlangs): 3.4736\n",
      "  Number of users supported: 34.74\n",
      "----------------------------------------\n",
      "For 20 trunked channels:\n",
      "  Maximum traffic load (in Erlangs): 8.3031\n",
      "  Number of users supported: 83.03\n",
      "----------------------------------------\n",
      "For 100 trunked channels:\n",
      "  Maximum traffic load (in Erlangs): 53.0610\n",
      "  Number of users supported: 530.61\n",
      "----------------------------------------\n"
     ]
    }
   ],
   "source": [
    "# Parameters\n",
    "GOS = 0.5 / 100  # Blocking probability (0.5%)\n",
    "Au = 0.1         # Traffic intensity per user\n",
    "\n",
    "# Given values (from Erlang B chart)\n",
    "A = [0.0512, 1.3532, 3.4736, 8.3031, 53.0610]  # Maximum traffic load (Erlangs)\n",
    "C = [1, 5, 10, 20, 100]                        # Trunked channels\n",
    "\n",
    "# Calculate total number of users for each traffic load\n",
    "U = [traffic_load / Au for traffic_load in A]  # Total number of users supported\n",
    "\n",
    "# Print results in the specified format\n",
    "for i in range(len(C)):\n",
    "    print(f\"For {C[i]} trunked channels:\")\n",
    "    print(f\"  Maximum traffic load (in Erlangs): {A[i]:.4f}\")\n",
    "    print(f\"  Number of users supported: {U[i]:.2f}\")\n",
    "    print(\"----------------------------------------\")"
   ]
  },
  {
   "cell_type": "code",
   "execution_count": 2,
   "metadata": {},
   "outputs": [
    {
     "name": "stdout",
     "output_type": "stream",
     "text": [
      "Blocking probability\n",
      "0.005\n",
      "Traffic intensity per user \n",
      "0.1\n",
      "Traffic intensity\n",
      "[0.005, 1.13, 3.96, 11.1, 80.9]\n",
      "Channel\n",
      "[1, 5, 10, 20, 100]\n",
      "Number of users\n",
      "[0, 11, 40, 111, 809]\n"
     ]
    }
   ],
   "source": [
    "Gos = 0.5 / 100\n",
    "Au = 0.1\n",
    "# from table\n",
    "A = [0.005, 1.13, 3.96, 11.1, 80.9]\n",
    "c = [1, 5, 10, 20, 100]\n",
    "\n",
    "# Display information\n",
    "print('Blocking probability')\n",
    "print(Gos)\n",
    "print('Traffic intensity per user ')\n",
    "print(Au)\n",
    "print('Traffic intensity')\n",
    "print(A)\n",
    "print('Channel')\n",
    "print(c)\n",
    "\n",
    "# Calculate number of users\n",
    "U = [a / Au for a in A]\n",
    "u = [round(u_val) for u_val in U]\n",
    "\n",
    "# Display number of users\n",
    "print('Number of users')\n",
    "print(u)\n"
   ]
  }
 ],
 "metadata": {
  "kernelspec": {
   "display_name": "Python 3",
   "language": "python",
   "name": "python3"
  },
  "language_info": {
   "codemirror_mode": {
    "name": "ipython",
    "version": 3
   },
   "file_extension": ".py",
   "mimetype": "text/x-python",
   "name": "python",
   "nbconvert_exporter": "python",
   "pygments_lexer": "ipython3",
   "version": "3.13.0"
  }
 },
 "nbformat": 4,
 "nbformat_minor": 2
}
