{
 "cells": [
  {
   "cell_type": "markdown",
   "metadata": {},
   "source": [
    "An urban area has a population of 2 million residents. Three competing trunked mobile networks (systems A, B, and C) provide cellular service in this area. System A has 394 cells with 19 channels each, system B has 98 cells with 57 channels each, and system C has 49 cells, each with 100 channels. Find the number of users that can be supported at 2% blocking if each user averages 2 calls per hour at an average call duration of 3 minutes. Assuming that all three trunked systems are operated at maximum capacity, compute the percentage market penetration of each cellular provider."
   ]
  },
  {
   "cell_type": "code",
   "execution_count": 1,
   "metadata": {},
   "outputs": [
    {
     "name": "stdout",
     "output_type": "stream",
     "text": [
      "For System A\n",
      "Number of users in System A per cell: 120.0\n",
      "Total number of subscribers in System A: 47280.0\n",
      "Percentage market penetration for System A: 2.3640000000000003\n",
      "\n",
      "For System B\n",
      "Number of users in System B per cell: 450.0\n",
      "Total number of subscribers in System B: 44100.0\n",
      "Percentage market penetration for System B: 2.205\n",
      "\n",
      "For System C\n",
      "Number of users in System C per cell: 880.0\n",
      "Total number of subscribers in System C: 43120.0\n",
      "Percentage market penetration for System C: 2.156\n",
      "\n",
      "Total number of subscribers across all systems: 134500.0\n",
      "Total market penetration for all three systems: 6.7250000000000005\n"
     ]
    }
   ],
   "source": [
    "# Constants\n",
    "blocking_p = 2 / 100  # Blocking probability\n",
    "lamda = 2  # Average call rate per user (calls per hour)\n",
    "H = 3 / 60  # Average call duration (hours)\n",
    "Au = lamda * H  # Traffic per user in Erlangs\n",
    "total_population = 2000000  # Total population of the area\n",
    "\n",
    "# System A\n",
    "print('For System A')\n",
    "channel_a = 19\n",
    "cell_A = 394\n",
    "A_a = 12  # Traffic handled by each cell in System A\n",
    "Ua = A_a / Au  # Number of users supported per cell in System A\n",
    "subscriber_A = Ua * cell_A  # Total subscribers in System A\n",
    "print('Number of users in System A per cell:', Ua)\n",
    "print('Total number of subscribers in System A:', subscriber_A)\n",
    "percentage_market_penetration_for_A = (subscriber_A / total_population) * 100\n",
    "print('Percentage market penetration for System A:', percentage_market_penetration_for_A)\n",
    "\n",
    "# System B\n",
    "print('\\nFor System B')\n",
    "channel_b = 57\n",
    "cell_B = 98\n",
    "A_b = 45  # Traffic handled by each cell in System B\n",
    "Ub = A_b / Au  # Number of users supported per cell in System B\n",
    "subscriber_B = Ub * cell_B  # Total subscribers in System B\n",
    "print('Number of users in System B per cell:', Ub)\n",
    "print('Total number of subscribers in System B:', subscriber_B)\n",
    "percentage_market_penetration_for_B = (subscriber_B / total_population) * 100\n",
    "print('Percentage market penetration for System B:', percentage_market_penetration_for_B)\n",
    "\n",
    "# System C\n",
    "print('\\nFor System C')\n",
    "channel_c = 100\n",
    "cell_C = 49\n",
    "A_c = 88  # Traffic handled by each cell in System C\n",
    "Uc = A_c / Au  # Number of users supported per cell in System C\n",
    "subscriber_C = Uc * cell_C  # Total subscribers in System C\n",
    "print('Number of users in System C per cell:', Uc)\n",
    "print('Total number of subscribers in System C:', subscriber_C)\n",
    "percentage_market_penetration_for_C = (subscriber_C / total_population) * 100\n",
    "print('Percentage market penetration for System C:', percentage_market_penetration_for_C)\n",
    "\n",
    "# Total subscribers and market penetration for all systems\n",
    "total_subscribers = subscriber_A + subscriber_B + subscriber_C\n",
    "total_market_penetration = (total_subscribers / total_population) * 100\n",
    "print('\\nTotal number of subscribers across all systems:', total_subscribers)\n",
    "print('Total market penetration for all three systems:', total_market_penetration)\n"
   ]
  }
 ],
 "metadata": {
  "kernelspec": {
   "display_name": "Python 3",
   "language": "python",
   "name": "python3"
  },
  "language_info": {
   "codemirror_mode": {
    "name": "ipython",
    "version": 3
   },
   "file_extension": ".py",
   "mimetype": "text/x-python",
   "name": "python",
   "nbconvert_exporter": "python",
   "pygments_lexer": "ipython3",
   "version": "3.13.0"
  }
 },
 "nbformat": 4,
 "nbformat_minor": 2
}
