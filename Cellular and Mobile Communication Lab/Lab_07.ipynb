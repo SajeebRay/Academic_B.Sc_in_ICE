{
 "cells": [
  {
   "cell_type": "markdown",
   "metadata": {},
   "source": [
    "Determine the path loss of a 900MHz cellular system in a large city from a base station with the height of 100m and mobile station installed in a vehicle with antenna height of 2m. The distance between mobile and base station is 4Km."
   ]
  },
  {
   "cell_type": "code",
   "execution_count": 2,
   "metadata": {},
   "outputs": [
    {
     "name": "stdout",
     "output_type": "stream",
     "text": [
      "The path loss in urban areas, Lp = 137.29 dB\n"
     ]
    }
   ],
   "source": [
    "import math\n",
    "\n",
    "# Given values\n",
    "hte = 100  # Effective transmitter (base station) antenna height in meters\n",
    "hre = 2    # Effective receiver (mobile) antenna height in meters\n",
    "fc = 900   # Frequency in MHz\n",
    "d = 4      # T-R separation distance in kilometers\n",
    "\n",
    "# The correction factor (using Okumura-Hata model)\n",
    "a_hre = (3.2 * (math.log10(11.75 * hre))**2) - 4.97\n",
    "\n",
    "# Path Loss in urban areas\n",
    "Lp = (69.55 + 26.16 * math.log10(fc)\n",
    "      - 13.82 * math.log10(hte)\n",
    "      - a_hre\n",
    "      + (44.9 - 6.55 * math.log10(hte)) * math.log10(d))\n",
    "\n",
    "# Print the result\n",
    "print(f'The path loss in urban areas, Lp = {Lp:.2f} dB')"
   ]
  }
 ],
 "metadata": {
  "kernelspec": {
   "display_name": "Python 3",
   "language": "python",
   "name": "python3"
  },
  "language_info": {
   "codemirror_mode": {
    "name": "ipython",
    "version": 3
   },
   "file_extension": ".py",
   "mimetype": "text/x-python",
   "name": "python",
   "nbconvert_exporter": "python",
   "pygments_lexer": "ipython3",
   "version": "3.13.0"
  }
 },
 "nbformat": 4,
 "nbformat_minor": 2
}
