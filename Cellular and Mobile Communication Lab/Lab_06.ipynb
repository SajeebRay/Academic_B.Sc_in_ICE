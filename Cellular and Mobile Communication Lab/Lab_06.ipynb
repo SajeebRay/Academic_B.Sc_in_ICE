{
 "cells": [
  {
   "cell_type": "markdown",
   "metadata": {},
   "source": [
    "If a transmitter produces 50 watts of power, express the transmit power in units of\n",
    "(a) dBm\n",
    "(b) dBW\n",
    "If 50 watts is applied to a unity gain antenna with a 900 MHz carrier frequency, find the received power in dBm at a free space distance of 100 m from the antenna, what is P (10 km)? Assume unity gain for the receiver antenna."
   ]
  },
  {
   "cell_type": "code",
   "execution_count": 6,
   "metadata": {},
   "outputs": [
    {
     "name": "stdout",
     "output_type": "stream",
     "text": [
      "(a) Transmitter power, Pt in dBm: 47 dBm\n",
      "(b) Transmitter power, Pt in dBW: 17 dBW\n",
      "(c) Received power, Pr at 100 meters in dBm: -24.54 dBm\n",
      "(d) Received power, Pr at 10 km in dBm: -64.54 dBm\n"
     ]
    }
   ],
   "source": [
    "import math\n",
    "\n",
    "# Given data\n",
    "pt = 50  # Transmitted power in watts\n",
    "fc = 900  # Carrier frequency in MHz\n",
    "gt = 1  # Transmitter antenna gain (unitless)\n",
    "gr = 1  # Receiver antenna gain (unitless)\n",
    "d_100m = 100  # Distance in meters (100 meters)\n",
    "L = 1  # System loss factor (unitless)\n",
    "c = 3 * 10**8  # Speed of light in m/s\n",
    "\n",
    "# Wavelength (lambda) calculation\n",
    "lambda_ = c / (fc * 10**6)  # lambda = c / f\n",
    "\n",
    "# (a) Transmitter power in dBm\n",
    "tr_dBm = math.ceil(10 * math.log10(pt * 1000))\n",
    "print(f\"(a) Transmitter power, Pt in dBm: {tr_dBm} dBm\")\n",
    "\n",
    "# (b) Transmitter power in dBW\n",
    "tr_dBW = math.ceil(10 * math.log10(pt))\n",
    "print(f\"(b) Transmitter power, Pt in dBW: {tr_dBW} dBW\")\n",
    "\n",
    "# (c) Received power at 100 meters\n",
    "c_100m = ((pt * gt * gr * (lambda_ ** 2)) / (((4 * math.pi) ** 2) * (d_100m ** 2) * L)) * 1000 #thousand for miliwott\n",
    "Pr_100m = 10 * math.log10(c_100m)\n",
    "print(f\"(c) Received power, Pr at 100 meters in dBm: {Pr_100m:.2f} dBm\")\n",
    "\n",
    "# (d) Received power at 10 km\n",
    "d_10km = 10000  # Distance in meters (10 km)\n",
    "Pr_10km = Pr_100m + (20 * math.log10(d_100m / d_10km))\n",
    "print(f\"(d) Received power, Pr at 10 km in dBm: {Pr_10km:.2f} dBm\")"
   ]
  },
  {
   "cell_type": "code",
   "execution_count": 1,
   "metadata": {},
   "outputs": [
    {
     "name": "stdout",
     "output_type": "stream",
     "text": [
      "Transmitted Power: 47.0 dBm\n",
      "Transmitted Power: 17.0 dBW\n",
      "Received Power: -24.5 dBm\n",
      "Received Power: -64.5 dBm\n"
     ]
    }
   ],
   "source": [
    "# given\n",
    "import math\n",
    "\n",
    "Pt = 50  # Transmitter Power\n",
    "fc = 900  # Carrier Frequency\n",
    "\n",
    "# a\n",
    "PtdBm = 10 * math.log10(Pt * 1e3)\n",
    "print('Transmitted Power: %.1f dBm' % PtdBm)\n",
    "\n",
    "# b\n",
    "PtBW = 10 * math.log10(Pt)\n",
    "print('Transmitted Power: %.1f dBW' % PtBW)\n",
    "\n",
    "# received power\n",
    "Gt, Gr, lam, d, L = 1, 1, (1 / 3), 100, 1\n",
    "Pr = (Pt * Gt * Gr * (lam ** 2)) / (((4 * math.pi) ** 2) * (d ** 2) * L)\n",
    "PrdBm = 10 * math.log10(Pr * 1e3)\n",
    "print('Received Power: %.1f dBm' % PrdBm)\n",
    "\n",
    "# Pr(10Km)\n",
    "Pr10Km = PrdBm + 20 * math.log10(100 / 10000)\n",
    "print('Received Power: %.1f dBm' % Pr10Km)\n"
   ]
  },
  {
   "cell_type": "code",
   "execution_count": null,
   "metadata": {},
   "outputs": [],
   "source": []
  }
 ],
 "metadata": {
  "kernelspec": {
   "display_name": "Python 3",
   "language": "python",
   "name": "python3"
  },
  "language_info": {
   "codemirror_mode": {
    "name": "ipython",
    "version": 3
   },
   "file_extension": ".py",
   "mimetype": "text/x-python",
   "name": "python",
   "nbconvert_exporter": "python",
   "pygments_lexer": "ipython3",
   "version": "3.13.0"
  }
 },
 "nbformat": 4,
 "nbformat_minor": 2
}
