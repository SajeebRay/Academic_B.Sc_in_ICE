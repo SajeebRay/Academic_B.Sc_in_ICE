{
 "cells": [
  {
   "cell_type": "code",
   "execution_count": null,
   "metadata": {},
   "outputs": [],
   "source": [
    "A hexagonal cell within a 4-cell system has a radius of 1.387 km. A total of 60 channels are used within the entire system. If the load per user is 0.029 Erlangs, and\n",
    "λ = call/hour, compute the following for an Erlang C system that has a 5% probability of a delayed call\n",
    "a) How many users per square kilometer will this system support?\n",
    "b) What is the probability that a delayed call will have to wait for more than 10s?\n",
    "c) What is the probability that a call will be delayed for more than 10 seconds?"
   ]
  },
  {
   "cell_type": "code",
   "execution_count": 1,
   "metadata": {},
   "outputs": [
    {
     "name": "stdout",
     "output_type": "stream",
     "text": [
      "Number of channel per cell: 15\n",
      "Area Covered per cell is: 5 sq km\n",
      "(a) Number of users: 62\n",
      "(b)\n",
      "Holding time: 104.40 seconds\n",
      "Probability to wait: 56.29 %\n",
      "(c) Probability of delay 2.81  %\n"
     ]
    }
   ],
   "source": [
    "import math\n",
    "\n",
    "# Given values\n",
    "radius = 1.387\n",
    "cluster = 4\n",
    "total_channel = 60\n",
    "channel_per_cell = total_channel / cluster\n",
    "each_cell_covers = math.ceil(2.5981 * (radius ** 2))\n",
    "traffic_per_user = 0.029\n",
    "t = 10\n",
    "blocking_probability = 5 / 100\n",
    "\n",
    "# extra\n",
    "print('Number of channel per cell: %d' % channel_per_cell)\n",
    "print('Area Covered per cell is: %d sq km' % each_cell_covers)\n",
    "\n",
    "traffic_intensity = 9\n",
    "no_of_user = math.floor(traffic_intensity / (traffic_per_user * each_cell_covers))\n",
    "print(f'(a) Number of users: {no_of_user}')\n",
    "\n",
    "print('(b)')\n",
    "lembda = 1  # Au = lembda/H_holding time\n",
    "holding_time = (traffic_per_user / lembda) * 60 * 60\n",
    "print('Holding time: %.2f seconds' % holding_time)\n",
    "probability_to_wait = math.exp(-(channel_per_cell - traffic_intensity) * t / holding_time) * 100\n",
    "print(f'Probability to wait: %.2f' % probability_to_wait, '%')\n",
    "\n",
    "probability_of_delay = blocking_probability * probability_to_wait\n",
    "print(f'(c) Probability of delay %.2f ' % probability_of_delay, '%')\n"
   ]
  }
 ],
 "metadata": {
  "kernelspec": {
   "display_name": "Python 3",
   "language": "python",
   "name": "python3"
  },
  "language_info": {
   "codemirror_mode": {
    "name": "ipython",
    "version": 3
   },
   "file_extension": ".py",
   "mimetype": "text/x-python",
   "name": "python",
   "nbconvert_exporter": "python",
   "pygments_lexer": "ipython3",
   "version": "3.13.0"
  }
 },
 "nbformat": 4,
 "nbformat_minor": 2
}
