{
 "cells": [
  {
   "cell_type": "markdown",
   "metadata": {},
   "source": [
    "If a total of 33 MHz of bandwidth is allocated to a particular FDD cellular telephone system which uses two 25 kHz simplex channels to provide full duplex voice and control channels, compute the number of channels available per cell if a system uses\n",
    "(a) 4-cell reuse\n",
    "(b) 7-cell reuse\n",
    "(c) 12-cell reuse\n",
    "If 1 MHz of the allocated spectrum is dedicated to control channels, determine an equitable distribution of control channels and voice\n",
    "channels in each cell for each of the three systems."
   ]
  },
  {
   "cell_type": "code",
   "execution_count": 3,
   "metadata": {},
   "outputs": [],
   "source": [
    "# Constants\n",
    "total_bandwidth_mhz = 33  # Total allocated bandwidth in MHz\n",
    "control_bandwidth_mhz = 1  # 1 MHz dedicated to control channels\n",
    "channel_bandwidth_khz = 25  # Simplex channel bandwidth in kHz\n",
    "duplex_channel_bandwidth_khz = 2 * channel_bandwidth_khz  # Full duplex channel bandwidth in kHz\n",
    "reuse_factors = [4, 7, 12]  # Reuse factors to be evaluated\n",
    "\n",
    "# Convert bandwidth to kHz\n",
    "total_bandwidth_khz = total_bandwidth_mhz * 1000  # Total bandwidth in kHz\n",
    "control_bandwidth_khz = control_bandwidth_mhz * 1000  # Control bandwidth in kHz\n",
    "\n",
    "# Bandwidth available for voice channels (in kHz)\n",
    "voice_bandwidth_khz = total_bandwidth_khz - control_bandwidth_khz\n",
    "\n",
    "# Total number of voice channels available\n",
    "total_voice_channels = voice_bandwidth_khz // duplex_channel_bandwidth_khz\n",
    "\n",
    "# Total number of control channels available\n",
    "total_control_channels = control_bandwidth_khz // duplex_channel_bandwidth_khz"
   ]
  },
  {
   "cell_type": "code",
   "execution_count": 5,
   "metadata": {},
   "outputs": [],
   "source": [
    "# Function to calculate channels per cell for different reuse factors\n",
    "def calculate_channels_per_cell(reuse_factors):\n",
    "    results = []\n",
    "    for reuse_factor in reuse_factors:\n",
    "        # Voice channels per cell\n",
    "        voice_channels_per_cell = total_voice_channels // reuse_factor\n",
    "        \n",
    "        # Control channels per cell (rounded for equitable distribution)\n",
    "        control_channels_per_cell = round(total_control_channels / reuse_factor)\n",
    "        \n",
    "        # Total number of channels per cell\n",
    "        total_channels_per_cell = voice_channels_per_cell + control_channels_per_cell\n",
    "        \n",
    "        # Append results for this reuse factor\n",
    "        results.append({\n",
    "            'Reuse Factor': reuse_factor,\n",
    "            'Total Channels per Cell': total_channels_per_cell,\n",
    "            'Voice Channels per Cell': voice_channels_per_cell,\n",
    "            'Control Channels per Cell': control_channels_per_cell\n",
    "        })\n",
    "    \n",
    "    return results"
   ]
  },
  {
   "cell_type": "code",
   "execution_count": 6,
   "metadata": {},
   "outputs": [
    {
     "name": "stdout",
     "output_type": "stream",
     "text": [
      "For Cluster size N = 4\n",
      "Total number of channels available per cell : 165 channels\n",
      "Voice Channels : 160 channels\n",
      "Control Channels : 5 channels\n",
      "----------------------------------------\n",
      "For Cluster size N = 7\n",
      "Total number of channels available per cell : 94 channels\n",
      "Voice Channels : 91 channels\n",
      "Control Channels : 3 channels\n",
      "----------------------------------------\n",
      "For Cluster size N = 12\n",
      "Total number of channels available per cell : 55 channels\n",
      "Voice Channels : 53 channels\n",
      "Control Channels : 2 channels\n",
      "----------------------------------------\n"
     ]
    }
   ],
   "source": [
    "# Call the function and display the results\n",
    "results = calculate_channels_per_cell(reuse_factors)\n",
    "\n",
    "# Display the results in the required format\n",
    "for result in results:\n",
    "    print(f\"For Cluster size N = {result['Reuse Factor']}\")\n",
    "    print(f\"Total number of channels available per cell : {result['Total Channels per Cell']} channels\")\n",
    "    print(f\"Voice Channels : {result['Voice Channels per Cell']} channels\")\n",
    "    print(f\"Control Channels : {result['Control Channels per Cell']} channels\")\n",
    "    print('-' * 40)"
   ]
  }
 ],
 "metadata": {
  "kernelspec": {
   "display_name": "Python 3",
   "language": "python",
   "name": "python3"
  },
  "language_info": {
   "codemirror_mode": {
    "name": "ipython",
    "version": 3
   },
   "file_extension": ".py",
   "mimetype": "text/x-python",
   "name": "python",
   "nbconvert_exporter": "python",
   "pygments_lexer": "ipython3",
   "version": "3.13.0"
  }
 },
 "nbformat": 4,
 "nbformat_minor": 2
}
