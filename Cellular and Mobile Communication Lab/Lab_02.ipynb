{
 "cells": [
  {
   "cell_type": "markdown",
   "metadata": {},
   "source": [
    "If a signal to interference ratio of 15 dB is required for satisfactory forward channel performance of a cellular system, what is the frequency reuse factor and cluster size that should be used for maximum capacity if the path loss exponent is\n",
    "(a) n = 4\n",
    "(b) n = 3\n",
    "Assume that there are 6 co-channels cells in the first tier and all of them are at the same distance from the mobile. Use suitable approximations"
   ]
  },
  {
   "cell_type": "code",
   "execution_count": 1,
   "metadata": {},
   "outputs": [
    {
     "name": "stdout",
     "output_type": "stream",
     "text": [
      "For Path Loss Exponent, n = 4\n",
      "Signal-to-Interference Ratio, S/I: 15.740 dB > 15 dB\n",
      "Hence, Cluster size, N : 5\n",
      "Frequency Reuse Factor, Q : 3.873\n",
      "----------------------------------------\n",
      "For Path Loss Exponent, n = 3\n",
      "Signal-to-Interference Ratio, S/I: 15.563 dB > 15 dB\n",
      "Hence, Cluster size, N : 12\n",
      "Frequency Reuse Factor, Q : 6.000\n",
      "----------------------------------------\n"
     ]
    }
   ],
   "source": [
    "import math\n",
    "\n",
    "# Function to convert SIR from linear to dB\n",
    "def linear_to_dB(SIR_linear):\n",
    "    return 10 * math.log10(SIR_linear)\n",
    "\n",
    "# Function to calculate SIR in dB, cluster size N, and frequency reuse factor Q\n",
    "def calculate_sir_and_cluster_size(n):\n",
    "    # Given SIR target\n",
    "    SIR_target_dB = 15\n",
    "    SIR_target_linear = 10 ** (SIR_target_dB / 10)\n",
    "    \n",
    "    # Number of co-channel cells in the first tier\n",
    "    i0 = 6\n",
    "    \n",
    "    # Calculate the cluster size N\n",
    "    numerator = (SIR_target_linear * i0) ** (2 / n)\n",
    "    N = math.ceil(numerator / 3)  # Round up to nearest integer for cluster size\n",
    "    \n",
    "    # Calculate SIR based on the computed N\n",
    "    SIR_computed_linear = (3 * N) ** (n / 2) / i0\n",
    "    SIR_computed_dB = linear_to_dB(SIR_computed_linear)\n",
    "    \n",
    "    # Calculate frequency reuse factor Q\n",
    "    Q = math.sqrt(3 * N)\n",
    "    \n",
    "    return N, SIR_computed_dB, Q\n",
    "\n",
    "# Input: Path Loss exponents\n",
    "path_loss_exponents = [4, 3]\n",
    "\n",
    "# Process each path loss exponent\n",
    "for n in path_loss_exponents:\n",
    "    N, SIR_computed_dB, Q = calculate_sir_and_cluster_size(n)\n",
    "    \n",
    "    # Display the results in the required format\n",
    "    print(f\"For Path Loss Exponent, n = {n}\")\n",
    "    print(f\"Signal-to-Interference Ratio, S/I: {SIR_computed_dB:.3f} dB > 15 dB\")\n",
    "    print(f\"Hence, Cluster size, N : {N}\")\n",
    "    print(f\"Frequency Reuse Factor, Q : {Q:.3f}\")\n",
    "    print('-' * 40)\n"
   ]
  }
 ],
 "metadata": {
  "kernelspec": {
   "display_name": "Python 3",
   "language": "python",
   "name": "python3"
  },
  "language_info": {
   "codemirror_mode": {
    "name": "ipython",
    "version": 3
   },
   "file_extension": ".py",
   "mimetype": "text/x-python",
   "name": "python",
   "nbconvert_exporter": "python",
   "pygments_lexer": "ipython3",
   "version": "3.12.0"
  }
 },
 "nbformat": 4,
 "nbformat_minor": 2
}
