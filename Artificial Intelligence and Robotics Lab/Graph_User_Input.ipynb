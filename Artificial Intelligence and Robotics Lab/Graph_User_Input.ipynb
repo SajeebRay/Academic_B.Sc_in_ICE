{
 "cells": [
  {
   "cell_type": "markdown",
   "metadata": {},
   "source": [
    "# User Input tutorial for Adjacency Matrix"
   ]
  },
  {
   "cell_type": "markdown",
   "metadata": {},
   "source": [
    "**Input Vertex and Edges**"
   ]
  },
  {
   "cell_type": "code",
   "execution_count": 130,
   "metadata": {},
   "outputs": [
    {
     "name": "stdout",
     "output_type": "stream",
     "text": [
      "4 3\n"
     ]
    }
   ],
   "source": [
    "vertex, edges = map( int,input(\"Enter vertex and edge\").split() )\n",
    "\n",
    "print(vertex, edges)"
   ]
  },
  {
   "cell_type": "markdown",
   "metadata": {},
   "source": [
    "**Adjacency matrix initialization**"
   ]
  },
  {
   "cell_type": "code",
   "execution_count": 131,
   "metadata": {},
   "outputs": [
    {
     "name": "stdout",
     "output_type": "stream",
     "text": [
      "[[0, 0, 0, 0], [0, 0, 0, 0], [0, 0, 0, 0], [0, 0, 0, 0]]\n"
     ]
    }
   ],
   "source": [
    "graph = []\n",
    "for i in range(vertex):\n",
    "    graph.append([0] * vertex)\n",
    "\n",
    "print(graph)"
   ]
  },
  {
   "cell_type": "markdown",
   "metadata": {},
   "source": [
    "**Edge starting node, ending node and weight input**"
   ]
  },
  {
   "cell_type": "code",
   "execution_count": 126,
   "metadata": {},
   "outputs": [
    {
     "name": "stdout",
     "output_type": "stream",
     "text": [
      "[[0, 0, 0, 200], [30, 0, 100, 0], [0, 0, 0, 0], [0, 0, 0, 0]]\n"
     ]
    }
   ],
   "source": [
    "for i in range(edges):\n",
    "    start, end, wet = map( int,input(\"Enter u,v and w: \").split() )\n",
    "    graph[start-1][end-1] = wet\n",
    "\n",
    "print(graph)"
   ]
  },
  {
   "cell_type": "markdown",
   "metadata": {},
   "source": [
    "# User Input tutorial for Adjacency List"
   ]
  },
  {
   "cell_type": "code",
   "execution_count": null,
   "metadata": {},
   "outputs": [],
   "source": [
    "graph = {} # Initializing Dictionary\n",
    "total_vertex = int(input(\"Total vertex: \")) # input total vertex\n",
    "\n",
    "for i in range(total_vertex): # Loop for Entering node with it's neighbor's\n",
    "    node = input(\"input node: \") \n",
    "    print(node)\n",
    "    neighbor = input(\"Input neigbours: \")\n",
    "    neighbor = neighbor.split() # spliting neighbor's from user inputed string\n",
    "    print(neighbor)\n",
    "    graph[node] = neighbor\n",
    "    \n",
    "print(graph)"
   ]
  }
 ],
 "metadata": {
  "kernelspec": {
   "display_name": "Python 3",
   "language": "python",
   "name": "python3"
  },
  "language_info": {
   "codemirror_mode": {
    "name": "ipython",
    "version": 3
   },
   "file_extension": ".py",
   "mimetype": "text/x-python",
   "name": "python",
   "nbconvert_exporter": "python",
   "pygments_lexer": "ipython3",
   "version": "3.11.6"
  }
 },
 "nbformat": 4,
 "nbformat_minor": 2
}
