{
 "cells": [
  {
   "cell_type": "markdown",
   "metadata": {},
   "source": [
    "**Q.Travelling Salesman Problem**"
   ]
  },
  {
   "cell_type": "code",
   "execution_count": 9,
   "metadata": {},
   "outputs": [
    {
     "name": "stdout",
     "output_type": "stream",
     "text": [
      "Shortest Hamiltonian Cycle is: 1 --> 3 --> 2 --> 4 --> 1\n",
      "Minimum Weight: 131\n"
     ]
    }
   ],
   "source": [
    "#   !pip install more-itertools==4.1.0\n",
    "from itertools import permutations\n",
    "\n",
    "def calculate_cycle_weight(graph, cycle):\n",
    "    weight = 0\n",
    "    n = len(cycle)\n",
    "    for i in range(n):\n",
    "        weight += graph[cycle[i]][cycle[(i + 1) % n]]\n",
    "    return weight\n",
    "def traveling_salesman(graph, start):\n",
    "    num_vertices = len(graph)\n",
    "    min_weight = float('inf')\n",
    "    shortest_cycle = None\n",
    "    for perm in permutations(range(num_vertices)):\n",
    "        # starting node fixed  \n",
    "        if perm[0] == start-1:            \n",
    "            weight = calculate_cycle_weight(graph, perm)\n",
    "            if weight < min_weight:\n",
    "                min_weight = weight\n",
    "                shortest_cycle = perm\n",
    "    return shortest_cycle, min_weight\n",
    "\n",
    "weighted_graph = [\n",
    "    [0, 20, 42, 25],\n",
    "    [20, 0, 30, 34],\n",
    "    [42, 30, 0, 100],\n",
    "    [25, 34, 100, 0]\n",
    "]\n",
    "start_city = 1\n",
    "shortest_cycle, min_weight = traveling_salesman(weighted_graph, start_city)\n",
    "\n",
    "print('Shortest Hamiltonian Cycle is: ', end='')\n",
    "for i in range(len(shortest_cycle)):\n",
    "    print(shortest_cycle[i] + 1, \"-->\", end=' ')\n",
    "print(shortest_cycle[0] + 1)\n",
    "\n",
    "print(\"Minimum Weight:\", min_weight)"
   ]
  },
  {
   "cell_type": "markdown",
   "metadata": {},
   "source": [
    "**Q.Tower of Honoi**"
   ]
  },
  {
   "cell_type": "code",
   "execution_count": 2,
   "metadata": {},
   "outputs": [
    {
     "name": "stdout",
     "output_type": "stream",
     "text": [
      "Move disk 1 from rod A to rod C\n",
      "Move disk 2 from rod A to rod B\n",
      "Move disk 1 from rod C to rod B\n",
      "Move disk 3 from rod A to rod C\n",
      "Move disk 1 from rod B to rod A\n",
      "Move disk 2 from rod B to rod C\n",
      "Move disk 1 from rod A to rod C\n"
     ]
    }
   ],
   "source": [
    "def TowerOfHanoi(n, from_rod, to_rod, aux_rod):\n",
    "\tif n == 0:\n",
    "\t\treturn\n",
    "\tTowerOfHanoi(n-1, from_rod, aux_rod, to_rod)\n",
    "\tprint(\"Move disk\", n, \"from rod\", from_rod, \"to rod\", to_rod)\n",
    "\tTowerOfHanoi(n-1, aux_rod, to_rod, from_rod)\n",
    "\n",
    "N = 3\n",
    "TowerOfHanoi(N, 'A', 'C', 'B')"
   ]
  },
  {
   "cell_type": "markdown",
   "metadata": {},
   "source": [
    "**Q.BFS**"
   ]
  },
  {
   "cell_type": "code",
   "execution_count": 30,
   "metadata": {},
   "outputs": [
    {
     "name": "stdout",
     "output_type": "stream",
     "text": [
      "BFS Traversal: \n",
      "'A', 'B', 'C', 'D', 'E', 'F', "
     ]
    }
   ],
   "source": [
    "from queue import Queue\n",
    "\n",
    "def bfs(graph, start, visited):\n",
    "    queue = Queue()\n",
    "    queue.put(start)\n",
    "    while not queue.empty():\n",
    "        vertex = queue.get()\n",
    "        if vertex not in visited:\n",
    "            visited.add(vertex)\n",
    "            print(\"'\" + vertex + \"', \", end='')\n",
    "            for neighbor in graph[vertex]:\n",
    "                if neighbor not in visited:\n",
    "                    queue.put(neighbor)\n",
    "\n",
    "graph = {\n",
    "    'A': ['B', 'C'],\n",
    "    'B': ['A', 'D', 'E'],\n",
    "    'C': ['A', 'F'],\n",
    "    'D': ['B'],\n",
    "    'E': ['B', 'F'],\n",
    "    'F': ['C', 'E']\n",
    "}\n",
    "print('BFS Traversal: ')\n",
    "visited = set()  # Initialize the visited set\n",
    "bfs(graph, 'A', visited)\n",
    "# If the graph is disconnected\n",
    "for node in graph:\n",
    "    if node not in visited:\n",
    "        bfs(graph, node, visited)"
   ]
  },
  {
   "cell_type": "markdown",
   "metadata": {},
   "source": [
    "**Q.DFS**"
   ]
  },
  {
   "cell_type": "code",
   "execution_count": 29,
   "metadata": {},
   "outputs": [
    {
     "name": "stdout",
     "output_type": "stream",
     "text": [
      "DFS Traversal:\n",
      "'A', 'B', 'D', 'E', 'F', 'C', "
     ]
    }
   ],
   "source": [
    "def dfs(graph, node, visited):\n",
    "  if node not in visited:\n",
    "    visited.add(node)\n",
    "    print(\"'\" + node + \"', \" , end = '') # Print the current node\n",
    "    # Recursively explore all of the adjacent nodes.\n",
    "    for neighbor in graph[node]:\n",
    "      if neighbor not in visited:\n",
    "        dfs(graph, neighbor, visited)\n",
    "\n",
    "graph = {\n",
    "    'A': ['B', 'C'],\n",
    "    'B': ['A', 'D', 'E'],\n",
    "    'C': ['A', 'F'],\n",
    "    'D': ['B'],\n",
    "    'E': ['B', 'F'],\n",
    "    'F': ['C', 'E']\n",
    "}\n",
    "visited = set()\n",
    "print(\"DFS Traversal:\")\n",
    "dfs(graph, 'A', visited)\n",
    "# If the graph is disconnected\n",
    "for node in graph:\n",
    "    if node not in visited:  \n",
    "      dfs(graph, node, visited)"
   ]
  },
  {
   "cell_type": "markdown",
   "metadata": {},
   "source": [
    "**Q 5.1: Creating a dataset**"
   ]
  },
  {
   "cell_type": "code",
   "execution_count": 1,
   "metadata": {},
   "outputs": [],
   "source": [
    "import pandas as pd \n",
    "import numpy as np\n",
    " \n",
    "data={ \n",
    "    'Name': ['Sajeeb','Alamin','Naima','Riaz','Badsa','Badsa Wife','Puti','Montri','Gopal','Kobi'], \n",
    "    'Age': [34,56,76,45,87,46,46,76,23,45], \n",
    "    'Gender': ['M','M','F','M','M','M','F','F','M','M'], \n",
    "    'Marks': [87,88,76,66,56,78,76,78,90,56] \n",
    "} \n",
    "df=pd.DataFrame(data) \n",
    " \n",
    "df.to_csv('information.csv', index=False) "
   ]
  },
  {
   "cell_type": "markdown",
   "metadata": {},
   "source": [
    "**Q 5.1: Loading a dataset**"
   ]
  },
  {
   "cell_type": "code",
   "execution_count": 6,
   "metadata": {},
   "outputs": [
    {
     "name": "stdout",
     "output_type": "stream",
     "text": [
      "         Name  Age Gender  Marks\n",
      "0      Sajeeb   34      M     87\n",
      "1      Alamin   56      M     88\n",
      "2       Naima   76      F     76\n",
      "3        Riaz   45      M     66\n",
      "4       Badsa   87      M     56\n",
      "5  Badsa Wife   46      M     78\n",
      "6        Puti   46      F     76\n",
      "7      Montri   76      F     78\n",
      "8       Gopal   23      M     90\n",
      "9        Kobi   45      M     56\n"
     ]
    }
   ],
   "source": [
    "data=pd.read_csv('information.csv') \n",
    "print(data)"
   ]
  },
  {
   "cell_type": "markdown",
   "metadata": {},
   "source": [
    "**Q 5.2: Finding Mean, Median, Mode, Variance and Standard Deviation**"
   ]
  },
  {
   "cell_type": "code",
   "execution_count": 7,
   "metadata": {},
   "outputs": [
    {
     "name": "stdout",
     "output_type": "stream",
     "text": [
      "Mean: 75.1\n",
      "Median: 77.0\n",
      "Mode: 56\n",
      "Variance: 136.09\n",
      "Standard Deviation: 11.67\n"
     ]
    }
   ],
   "source": [
    "mean = np.mean(data['Marks'])\n",
    "median = np.median(data['Marks'])\n",
    "mode_value = data['Marks'].mode()[0]\n",
    "variance = np.var(data['Marks'])\n",
    "variance = round(variance,2)\n",
    "std_dev = np.std(data['Marks'])\n",
    "std_dev= round(std_dev,2)\n",
    "# # Print the results\n",
    "print('Mean:', mean)\n",
    "print('Median:', median)\n",
    "print('Mode:', mode_value)\n",
    "print('Variance:', variance)\n",
    "print('Standard Deviation:', std_dev)"
   ]
  }
 ],
 "metadata": {
  "kernelspec": {
   "display_name": "Python 3",
   "language": "python",
   "name": "python3"
  },
  "language_info": {
   "codemirror_mode": {
    "name": "ipython",
    "version": 3
   },
   "file_extension": ".py",
   "mimetype": "text/x-python",
   "name": "python",
   "nbconvert_exporter": "python",
   "pygments_lexer": "ipython3",
   "version": "3.11.6"
  },
  "orig_nbformat": 4
 },
 "nbformat": 4,
 "nbformat_minor": 2
}
