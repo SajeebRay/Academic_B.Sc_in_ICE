{
 "cells": [
  {
   "cell_type": "markdown",
   "metadata": {},
   "source": [
    "**Q 5.1: Creating a dataset**"
   ]
  },
  {
   "cell_type": "code",
   "execution_count": 5,
   "metadata": {},
   "outputs": [],
   "source": [
    "import pandas as pd \n",
    "import numpy as np\n",
    " \n",
    "data={ \n",
    "    'Name': ['Sajeeb','Alamin','Naima','Riaz','Badsa','Badsa Wife','Puti','Montri','Gopal','Kobi'], \n",
    "    'Age': [34,56,76,45,87,46,46,76,23,45], \n",
    "    'Gender': ['M','M','F','M','M','M','F','F','M','M'], \n",
    "    'Marks': [87,88,76,66,56,78,76,78,90,56] \n",
    "} \n",
    "df=pd.DataFrame(data) \n",
    " \n",
    "x = df.to_csv('information.csv', index=False) "
   ]
  },
  {
   "cell_type": "markdown",
   "metadata": {},
   "source": [
    "**Q 5.1: Loading a dataset**"
   ]
  },
  {
   "cell_type": "code",
   "execution_count": 6,
   "metadata": {},
   "outputs": [
    {
     "name": "stdout",
     "output_type": "stream",
     "text": [
      "         Name  Age Gender  Marks\n",
      "0      Sajeeb   34      M     87\n",
      "1      Alamin   56      M     88\n",
      "2       Naima   76      F     76\n",
      "3        Riaz   45      M     66\n",
      "4       Badsa   87      M     56\n",
      "5  Badsa Wife   46      M     78\n",
      "6        Puti   46      F     76\n",
      "7      Montri   76      F     78\n",
      "8       Gopal   23      M     90\n",
      "9        Kobi   45      M     56\n"
     ]
    }
   ],
   "source": [
    "data=pd.read_csv('information.csv') \n",
    "print(data)"
   ]
  },
  {
   "cell_type": "markdown",
   "metadata": {},
   "source": [
    "**Q 5.2: Finding Mean, Median, Mode, Variance and Standard Deviation**"
   ]
  },
  {
   "cell_type": "code",
   "execution_count": 7,
   "metadata": {},
   "outputs": [
    {
     "name": "stdout",
     "output_type": "stream",
     "text": [
      "Mean: 75.1\n",
      "Median: 77.0\n",
      "Mode: 56\n",
      "Variance: 136.09\n",
      "Standard Deviation: 11.67\n"
     ]
    }
   ],
   "source": [
    "mean = np.mean(data['Marks'])\n",
    "median = np.median(data['Marks'])\n",
    "mode_value = data['Marks'].mode()[0]\n",
    "variance = np.var(data['Marks'])\n",
    "variance = round(variance,2)\n",
    "std_dev = np.std(data['Marks'])\n",
    "std_dev= round(std_dev,2)\n",
    "# # Print the results\n",
    "print('Mean:', mean)\n",
    "print('Median:', median)\n",
    "print('Mode:', mode_value)\n",
    "print('Variance:', variance)\n",
    "print('Standard Deviation:', std_dev)"
   ]
  }
 ],
 "metadata": {
  "kernelspec": {
   "display_name": "Python 3",
   "language": "python",
   "name": "python3"
  },
  "language_info": {
   "codemirror_mode": {
    "name": "ipython",
    "version": 3
   },
   "file_extension": ".py",
   "mimetype": "text/x-python",
   "name": "python",
   "nbconvert_exporter": "python",
   "pygments_lexer": "ipython3",
   "version": "3.11.6"
  },
  "orig_nbformat": 4
 },
 "nbformat": 4,
 "nbformat_minor": 2
}
